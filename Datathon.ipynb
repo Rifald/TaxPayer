{
 "cells": [
  {
   "cell_type": "markdown",
   "id": "537d86e8",
   "metadata": {},
   "source": [
    "# Taxpayer\n",
    "\n",
    "<b>About the Data</b>\n",
    "<p>The dataset contains information about US taxpayers. There are 10 independent columns and 1 dependent column. This dataset includes attributes like household income, household debt level, if the taxpayer is married or not, how many cars their household has, if they filed their taxes in the last three years or not. </p>\n",
    "\n",
    "<b>Data Description:</b>\n",
    "<ul>\n",
    "  <li>HHI: Household income</li>\n",
    "  <li>HHDL: Household debt level</li>\n",
    "  <li>Married: There are three categories for a taxpayer 0, 1, 2 with regards to marriage.</li>\n",
    "  <li>PoliticalParty: Name of the political party</li>\n",
    "  <li>CollegeGrads: Grade in College out of 5</li>\n",
    "  <li>AHHAge: Average household age</li>\n",
    "  <li>cars: number of cars in house</li>\n",
    "  <li>Filed in YYYY: Tax filed in given year YYYY</li>\n",
    "</ul>\n"
   ]
  },
  {
   "cell_type": "markdown",
   "id": "c8583930",
   "metadata": {},
   "source": [
    "## Import"
   ]
  },
  {
   "cell_type": "code",
   "execution_count": null,
   "id": "e79ed537",
   "metadata": {},
   "outputs": [],
   "source": [
    "import matplotlib.pyplot as plt\n",
    "import seaborn as sns"
   ]
  },
  {
   "cell_type": "markdown",
   "id": "89d545f8",
   "metadata": {},
   "source": [
    "## Read Data"
   ]
  },
  {
   "cell_type": "code",
   "execution_count": 2,
   "id": "80ff4542",
   "metadata": {},
   "outputs": [],
   "source": [
    "import pandas as pd\n",
    "tax_data  = pd.read_csv(\"https://raw.githubusercontent.com/dphi-official/Datasets/master/tax_payers/train_set_label.csv\" )\n",
    "test_data = pd.read_csv('https://raw.githubusercontent.com/dphi-official/Datasets/master/tax_payers/test_set_label.csv')"
   ]
  },
  {
   "cell_type": "code",
   "execution_count": 3,
   "id": "93264afb",
   "metadata": {},
   "outputs": [
    {
     "data": {
      "text/html": [
       "<div>\n",
       "<style scoped>\n",
       "    .dataframe tbody tr th:only-of-type {\n",
       "        vertical-align: middle;\n",
       "    }\n",
       "\n",
       "    .dataframe tbody tr th {\n",
       "        vertical-align: top;\n",
       "    }\n",
       "\n",
       "    .dataframe thead th {\n",
       "        text-align: right;\n",
       "    }\n",
       "</style>\n",
       "<table border=\"1\" class=\"dataframe\">\n",
       "  <thead>\n",
       "    <tr style=\"text-align: right;\">\n",
       "      <th></th>\n",
       "      <th>Unnamed: 0</th>\n",
       "      <th>HHI</th>\n",
       "      <th>HHDL</th>\n",
       "      <th>Married</th>\n",
       "      <th>CollegGrads</th>\n",
       "      <th>AHHAge</th>\n",
       "      <th>Cars</th>\n",
       "      <th>Filed in 2017</th>\n",
       "      <th>Filed in 2016</th>\n",
       "      <th>Filed in 2015</th>\n",
       "      <th>PoliticalParty</th>\n",
       "    </tr>\n",
       "  </thead>\n",
       "  <tbody>\n",
       "    <tr>\n",
       "      <th>0</th>\n",
       "      <td>61</td>\n",
       "      <td>183414</td>\n",
       "      <td>-12402</td>\n",
       "      <td>1</td>\n",
       "      <td>2</td>\n",
       "      <td>28</td>\n",
       "      <td>1</td>\n",
       "      <td>0</td>\n",
       "      <td>0</td>\n",
       "      <td>1</td>\n",
       "      <td>Democrat</td>\n",
       "    </tr>\n",
       "    <tr>\n",
       "      <th>1</th>\n",
       "      <td>501</td>\n",
       "      <td>129786</td>\n",
       "      <td>700251</td>\n",
       "      <td>2</td>\n",
       "      <td>5</td>\n",
       "      <td>63</td>\n",
       "      <td>3</td>\n",
       "      <td>0</td>\n",
       "      <td>0</td>\n",
       "      <td>0</td>\n",
       "      <td>Republican</td>\n",
       "    </tr>\n",
       "    <tr>\n",
       "      <th>2</th>\n",
       "      <td>658</td>\n",
       "      <td>268343</td>\n",
       "      <td>493411</td>\n",
       "      <td>2</td>\n",
       "      <td>4</td>\n",
       "      <td>44</td>\n",
       "      <td>1</td>\n",
       "      <td>1</td>\n",
       "      <td>0</td>\n",
       "      <td>1</td>\n",
       "      <td>Independent</td>\n",
       "    </tr>\n",
       "    <tr>\n",
       "      <th>3</th>\n",
       "      <td>703</td>\n",
       "      <td>290506</td>\n",
       "      <td>-433408</td>\n",
       "      <td>1</td>\n",
       "      <td>1</td>\n",
       "      <td>28</td>\n",
       "      <td>5</td>\n",
       "      <td>1</td>\n",
       "      <td>0</td>\n",
       "      <td>1</td>\n",
       "      <td>Republican</td>\n",
       "    </tr>\n",
       "    <tr>\n",
       "      <th>4</th>\n",
       "      <td>702</td>\n",
       "      <td>90108</td>\n",
       "      <td>907135</td>\n",
       "      <td>1</td>\n",
       "      <td>3</td>\n",
       "      <td>57</td>\n",
       "      <td>5</td>\n",
       "      <td>1</td>\n",
       "      <td>1</td>\n",
       "      <td>0</td>\n",
       "      <td>Democrat</td>\n",
       "    </tr>\n",
       "  </tbody>\n",
       "</table>\n",
       "</div>"
      ],
      "text/plain": [
       "   Unnamed: 0     HHI    HHDL  Married  CollegGrads  AHHAge  Cars  \\\n",
       "0          61  183414  -12402        1            2      28     1   \n",
       "1         501  129786  700251        2            5      63     3   \n",
       "2         658  268343  493411        2            4      44     1   \n",
       "3         703  290506 -433408        1            1      28     5   \n",
       "4         702   90108  907135        1            3      57     5   \n",
       "\n",
       "   Filed in 2017  Filed in 2016  Filed in 2015 PoliticalParty  \n",
       "0              0              0              1       Democrat  \n",
       "1              0              0              0     Republican  \n",
       "2              1              0              1    Independent  \n",
       "3              1              0              1     Republican  \n",
       "4              1              1              0       Democrat  "
      ]
     },
     "execution_count": 3,
     "metadata": {},
     "output_type": "execute_result"
    }
   ],
   "source": [
    "tax_data.head()"
   ]
  },
  {
   "cell_type": "code",
   "execution_count": 4,
   "id": "f2e06a4d",
   "metadata": {},
   "outputs": [
    {
     "data": {
      "text/html": [
       "<div>\n",
       "<style scoped>\n",
       "    .dataframe tbody tr th:only-of-type {\n",
       "        vertical-align: middle;\n",
       "    }\n",
       "\n",
       "    .dataframe tbody tr th {\n",
       "        vertical-align: top;\n",
       "    }\n",
       "\n",
       "    .dataframe thead th {\n",
       "        text-align: right;\n",
       "    }\n",
       "</style>\n",
       "<table border=\"1\" class=\"dataframe\">\n",
       "  <thead>\n",
       "    <tr style=\"text-align: right;\">\n",
       "      <th></th>\n",
       "      <th>Unnamed: 0</th>\n",
       "      <th>HHI</th>\n",
       "      <th>HHDL</th>\n",
       "      <th>Married</th>\n",
       "      <th>CollegGrads</th>\n",
       "      <th>AHHAge</th>\n",
       "      <th>Cars</th>\n",
       "      <th>Filed in 2017</th>\n",
       "      <th>Filed in 2016</th>\n",
       "      <th>Filed in 2015</th>\n",
       "    </tr>\n",
       "  </thead>\n",
       "  <tbody>\n",
       "    <tr>\n",
       "      <th>0</th>\n",
       "      <td>17</td>\n",
       "      <td>253274</td>\n",
       "      <td>-633752</td>\n",
       "      <td>2</td>\n",
       "      <td>1</td>\n",
       "      <td>94</td>\n",
       "      <td>3</td>\n",
       "      <td>0</td>\n",
       "      <td>1</td>\n",
       "      <td>1</td>\n",
       "    </tr>\n",
       "    <tr>\n",
       "      <th>1</th>\n",
       "      <td>590</td>\n",
       "      <td>47107</td>\n",
       "      <td>322850</td>\n",
       "      <td>0</td>\n",
       "      <td>1</td>\n",
       "      <td>30</td>\n",
       "      <td>2</td>\n",
       "      <td>1</td>\n",
       "      <td>1</td>\n",
       "      <td>0</td>\n",
       "    </tr>\n",
       "    <tr>\n",
       "      <th>2</th>\n",
       "      <td>224</td>\n",
       "      <td>111874</td>\n",
       "      <td>300583</td>\n",
       "      <td>0</td>\n",
       "      <td>2</td>\n",
       "      <td>46</td>\n",
       "      <td>3</td>\n",
       "      <td>0</td>\n",
       "      <td>1</td>\n",
       "      <td>1</td>\n",
       "    </tr>\n",
       "    <tr>\n",
       "      <th>3</th>\n",
       "      <td>960</td>\n",
       "      <td>96670</td>\n",
       "      <td>107419</td>\n",
       "      <td>0</td>\n",
       "      <td>3</td>\n",
       "      <td>77</td>\n",
       "      <td>5</td>\n",
       "      <td>0</td>\n",
       "      <td>0</td>\n",
       "      <td>0</td>\n",
       "    </tr>\n",
       "    <tr>\n",
       "      <th>4</th>\n",
       "      <td>57</td>\n",
       "      <td>128669</td>\n",
       "      <td>341273</td>\n",
       "      <td>0</td>\n",
       "      <td>0</td>\n",
       "      <td>92</td>\n",
       "      <td>4</td>\n",
       "      <td>1</td>\n",
       "      <td>1</td>\n",
       "      <td>1</td>\n",
       "    </tr>\n",
       "  </tbody>\n",
       "</table>\n",
       "</div>"
      ],
      "text/plain": [
       "   Unnamed: 0     HHI    HHDL  Married  CollegGrads  AHHAge  Cars  \\\n",
       "0          17  253274 -633752        2            1      94     3   \n",
       "1         590   47107  322850        0            1      30     2   \n",
       "2         224  111874  300583        0            2      46     3   \n",
       "3         960   96670  107419        0            3      77     5   \n",
       "4          57  128669  341273        0            0      92     4   \n",
       "\n",
       "   Filed in 2017  Filed in 2016  Filed in 2015  \n",
       "0              0              1              1  \n",
       "1              1              1              0  \n",
       "2              0              1              1  \n",
       "3              0              0              0  \n",
       "4              1              1              1  "
      ]
     },
     "execution_count": 4,
     "metadata": {},
     "output_type": "execute_result"
    }
   ],
   "source": [
    "test_data.head()"
   ]
  },
  {
   "cell_type": "code",
   "execution_count": 5,
   "id": "71fa34a1",
   "metadata": {},
   "outputs": [
    {
     "name": "stdout",
     "output_type": "stream",
     "text": [
      "<class 'pandas.core.frame.DataFrame'>\n",
      "RangeIndex: 803 entries, 0 to 802\n",
      "Data columns (total 11 columns):\n",
      " #   Column          Non-Null Count  Dtype \n",
      "---  ------          --------------  ----- \n",
      " 0   Unnamed: 0      803 non-null    int64 \n",
      " 1   HHI             803 non-null    int64 \n",
      " 2   HHDL            803 non-null    int64 \n",
      " 3   Married         803 non-null    int64 \n",
      " 4   CollegGrads     803 non-null    int64 \n",
      " 5   AHHAge          803 non-null    int64 \n",
      " 6   Cars            803 non-null    int64 \n",
      " 7   Filed in 2017   803 non-null    int64 \n",
      " 8   Filed in 2016   803 non-null    int64 \n",
      " 9   Filed in 2015   803 non-null    int64 \n",
      " 10  PoliticalParty  803 non-null    object\n",
      "dtypes: int64(10), object(1)\n",
      "memory usage: 69.1+ KB\n"
     ]
    }
   ],
   "source": [
    "tax_data.info()"
   ]
  },
  {
   "cell_type": "code",
   "execution_count": 6,
   "id": "51264b18",
   "metadata": {},
   "outputs": [],
   "source": [
    "tax_data.drop(\"Unnamed: 0\", axis=1, inplace=True)"
   ]
  },
  {
   "cell_type": "code",
   "execution_count": 7,
   "id": "3bd00568",
   "metadata": {},
   "outputs": [
    {
     "name": "stdout",
     "output_type": "stream",
     "text": [
      "<class 'pandas.core.frame.DataFrame'>\n",
      "RangeIndex: 803 entries, 0 to 802\n",
      "Data columns (total 10 columns):\n",
      " #   Column          Non-Null Count  Dtype \n",
      "---  ------          --------------  ----- \n",
      " 0   HHI             803 non-null    int64 \n",
      " 1   HHDL            803 non-null    int64 \n",
      " 2   Married         803 non-null    int64 \n",
      " 3   CollegGrads     803 non-null    int64 \n",
      " 4   AHHAge          803 non-null    int64 \n",
      " 5   Cars            803 non-null    int64 \n",
      " 6   Filed in 2017   803 non-null    int64 \n",
      " 7   Filed in 2016   803 non-null    int64 \n",
      " 8   Filed in 2015   803 non-null    int64 \n",
      " 9   PoliticalParty  803 non-null    object\n",
      "dtypes: int64(9), object(1)\n",
      "memory usage: 62.9+ KB\n"
     ]
    }
   ],
   "source": [
    "tax_data.info()"
   ]
  },
  {
   "cell_type": "code",
   "execution_count": 8,
   "id": "63f07f49",
   "metadata": {},
   "outputs": [
    {
     "data": {
      "text/plain": [
       "Democrat       269\n",
       "Independent    269\n",
       "Republican     265\n",
       "Name: PoliticalParty, dtype: int64"
      ]
     },
     "execution_count": 8,
     "metadata": {},
     "output_type": "execute_result"
    }
   ],
   "source": [
    "tax_data.PoliticalParty.value_counts()"
   ]
  },
  {
   "cell_type": "code",
   "execution_count": 9,
   "id": "fa6a6f21",
   "metadata": {},
   "outputs": [
    {
     "data": {
      "text/plain": [
       "<AxesSubplot:>"
      ]
     },
     "execution_count": 9,
     "metadata": {},
     "output_type": "execute_result"
    },
    {
     "data": {
      "image/png": "[encoded data removed]",
      "text/plain": [
       "<Figure size 864x432 with 2 Axes>"
      ]
     },
     "metadata": {
      "needs_background": "light"
     },
     "output_type": "display_data"
    }
   ],
   "source": [
    "color = sns.diverging_palette(270, 300, as_cmap = True)\n",
    "plt.figure(figsize=(12,6))\n",
    "sns.heatmap(tax_data.corr(), cmap=color, annot=True)"
   ]
  },
  {
   "cell_type": "markdown",
   "id": "75094de7",
   "metadata": {},
   "source": [
    "## Spliting Data "
   ]
  },
  {
   "cell_type": "code",
   "execution_count": 10,
   "id": "f976d381",
   "metadata": {},
   "outputs": [],
   "source": [
    "x = tax_data.iloc[:,0:9]\n",
    "y = tax_data['PoliticalParty']"
   ]
  },
  {
   "cell_type": "code",
   "execution_count": 11,
   "id": "f6aa2f43",
   "metadata": {},
   "outputs": [
    {
     "data": {
      "text/html": [
       "<div>\n",
       "<style scoped>\n",
       "    .dataframe tbody tr th:only-of-type {\n",
       "        vertical-align: middle;\n",
       "    }\n",
       "\n",
       "    .dataframe tbody tr th {\n",
       "        vertical-align: top;\n",
       "    }\n",
       "\n",
       "    .dataframe thead th {\n",
       "        text-align: right;\n",
       "    }\n",
       "</style>\n",
       "<table border=\"1\" class=\"dataframe\">\n",
       "  <thead>\n",
       "    <tr style=\"text-align: right;\">\n",
       "      <th></th>\n",
       "      <th>HHI</th>\n",
       "      <th>HHDL</th>\n",
       "      <th>Married</th>\n",
       "      <th>CollegGrads</th>\n",
       "      <th>AHHAge</th>\n",
       "      <th>Cars</th>\n",
       "      <th>Filed in 2017</th>\n",
       "      <th>Filed in 2016</th>\n",
       "      <th>Filed in 2015</th>\n",
       "    </tr>\n",
       "  </thead>\n",
       "  <tbody>\n",
       "    <tr>\n",
       "      <th>0</th>\n",
       "      <td>183414</td>\n",
       "      <td>-12402</td>\n",
       "      <td>1</td>\n",
       "      <td>2</td>\n",
       "      <td>28</td>\n",
       "      <td>1</td>\n",
       "      <td>0</td>\n",
       "      <td>0</td>\n",
       "      <td>1</td>\n",
       "    </tr>\n",
       "    <tr>\n",
       "      <th>1</th>\n",
       "      <td>129786</td>\n",
       "      <td>700251</td>\n",
       "      <td>2</td>\n",
       "      <td>5</td>\n",
       "      <td>63</td>\n",
       "      <td>3</td>\n",
       "      <td>0</td>\n",
       "      <td>0</td>\n",
       "      <td>0</td>\n",
       "    </tr>\n",
       "    <tr>\n",
       "      <th>2</th>\n",
       "      <td>268343</td>\n",
       "      <td>493411</td>\n",
       "      <td>2</td>\n",
       "      <td>4</td>\n",
       "      <td>44</td>\n",
       "      <td>1</td>\n",
       "      <td>1</td>\n",
       "      <td>0</td>\n",
       "      <td>1</td>\n",
       "    </tr>\n",
       "    <tr>\n",
       "      <th>3</th>\n",
       "      <td>290506</td>\n",
       "      <td>-433408</td>\n",
       "      <td>1</td>\n",
       "      <td>1</td>\n",
       "      <td>28</td>\n",
       "      <td>5</td>\n",
       "      <td>1</td>\n",
       "      <td>0</td>\n",
       "      <td>1</td>\n",
       "    </tr>\n",
       "    <tr>\n",
       "      <th>4</th>\n",
       "      <td>90108</td>\n",
       "      <td>907135</td>\n",
       "      <td>1</td>\n",
       "      <td>3</td>\n",
       "      <td>57</td>\n",
       "      <td>5</td>\n",
       "      <td>1</td>\n",
       "      <td>1</td>\n",
       "      <td>0</td>\n",
       "    </tr>\n",
       "  </tbody>\n",
       "</table>\n",
       "</div>"
      ],
      "text/plain": [
       "      HHI    HHDL  Married  CollegGrads  AHHAge  Cars  Filed in 2017  \\\n",
       "0  183414  -12402        1            2      28     1              0   \n",
       "1  129786  700251        2            5      63     3              0   \n",
       "2  268343  493411        2            4      44     1              1   \n",
       "3  290506 -433408        1            1      28     5              1   \n",
       "4   90108  907135        1            3      57     5              1   \n",
       "\n",
       "   Filed in 2016  Filed in 2015  \n",
       "0              0              1  \n",
       "1              0              0  \n",
       "2              0              1  \n",
       "3              0              1  \n",
       "4              1              0  "
      ]
     },
     "execution_count": 11,
     "metadata": {},
     "output_type": "execute_result"
    }
   ],
   "source": [
    "x.head()"
   ]
  },
  {
   "cell_type": "code",
   "execution_count": 12,
   "id": "e1ed8889",
   "metadata": {},
   "outputs": [
    {
     "data": {
      "text/plain": [
       "0       Democrat\n",
       "1     Republican\n",
       "2    Independent\n",
       "3     Republican\n",
       "4       Democrat\n",
       "Name: PoliticalParty, dtype: object"
      ]
     },
     "execution_count": 12,
     "metadata": {},
     "output_type": "execute_result"
    }
   ],
   "source": [
    "y.head()"
   ]
  },
  {
   "cell_type": "code",
   "execution_count": 13,
   "id": "382c1c40",
   "metadata": {},
   "outputs": [],
   "source": [
    "from sklearn.model_selection import train_test_split\n",
    "x_train, x_test, y_train, y_test = train_test_split(x,y, test_size=0.2, random_state=1, stratify=y)"
   ]
  },
  {
   "cell_type": "code",
   "execution_count": 14,
   "id": "8c3852a4",
   "metadata": {},
   "outputs": [],
   "source": [
    "from sklearn.ensemble import RandomForestClassifier\n",
    "forest = RandomForestClassifier(random_state=1, n_estimators=10, max_depth = 5, n_jobs=-1)"
   ]
  },
  {
   "cell_type": "markdown",
   "id": "714de889",
   "metadata": {},
   "source": [
    "## Random Forest "
   ]
  },
  {
   "cell_type": "code",
   "execution_count": 15,
   "id": "dd428ce8",
   "metadata": {},
   "outputs": [
    {
     "data": {
      "text/plain": [
       "RandomForestClassifier(max_depth=5, n_estimators=10, n_jobs=-1, random_state=1)"
      ]
     },
     "execution_count": 15,
     "metadata": {},
     "output_type": "execute_result"
    }
   ],
   "source": [
    "forest.fit(x_train, y_train)"
   ]
  },
  {
   "cell_type": "code",
   "execution_count": 16,
   "id": "df954d82",
   "metadata": {},
   "outputs": [
    {
     "data": {
      "text/plain": [
       "array(['Republican', 'Republican', 'Independent', 'Republican',\n",
       "       'Republican', 'Democrat', 'Democrat', 'Independent', 'Democrat',\n",
       "       'Republican', 'Democrat', 'Democrat', 'Independent', 'Republican',\n",
       "       'Democrat', 'Republican', 'Republican', 'Independent',\n",
       "       'Independent', 'Democrat', 'Independent', 'Independent',\n",
       "       'Republican', 'Independent', 'Republican', 'Democrat', 'Democrat',\n",
       "       'Democrat', 'Independent', 'Independent', 'Republican', 'Democrat',\n",
       "       'Democrat', 'Democrat', 'Democrat', 'Independent', 'Independent',\n",
       "       'Independent', 'Democrat', 'Independent', 'Independent',\n",
       "       'Independent', 'Independent', 'Republican', 'Republican',\n",
       "       'Republican', 'Democrat', 'Independent', 'Democrat', 'Independent',\n",
       "       'Democrat', 'Independent', 'Independent', 'Democrat', 'Republican',\n",
       "       'Democrat', 'Republican', 'Republican', 'Democrat', 'Republican',\n",
       "       'Independent', 'Democrat', 'Republican', 'Independent', 'Democrat',\n",
       "       'Independent', 'Republican', 'Democrat', 'Democrat', 'Republican',\n",
       "       'Democrat', 'Independent', 'Republican', 'Republican', 'Democrat',\n",
       "       'Independent', 'Republican', 'Independent', 'Democrat',\n",
       "       'Independent', 'Democrat', 'Democrat', 'Democrat', 'Democrat',\n",
       "       'Independent', 'Democrat', 'Republican', 'Independent',\n",
       "       'Independent', 'Independent', 'Republican', 'Independent',\n",
       "       'Democrat', 'Democrat', 'Democrat', 'Independent', 'Democrat',\n",
       "       'Democrat', 'Independent', 'Democrat', 'Independent', 'Republican',\n",
       "       'Democrat', 'Democrat', 'Democrat', 'Independent', 'Democrat',\n",
       "       'Republican', 'Independent', 'Democrat', 'Democrat', 'Democrat',\n",
       "       'Democrat', 'Democrat', 'Independent', 'Democrat', 'Independent',\n",
       "       'Republican', 'Democrat', 'Democrat', 'Democrat', 'Independent',\n",
       "       'Democrat', 'Republican', 'Democrat', 'Independent', 'Independent',\n",
       "       'Independent', 'Democrat', 'Democrat', 'Democrat', 'Republican',\n",
       "       'Republican', 'Independent', 'Republican', 'Republican',\n",
       "       'Independent', 'Democrat', 'Republican', 'Independent',\n",
       "       'Independent', 'Democrat', 'Democrat', 'Democrat', 'Democrat',\n",
       "       'Independent', 'Democrat', 'Independent', 'Democrat', 'Republican',\n",
       "       'Republican', 'Independent', 'Independent', 'Democrat', 'Democrat',\n",
       "       'Republican', 'Republican', 'Democrat', 'Independent', 'Democrat',\n",
       "       'Independent'], dtype=object)"
      ]
     },
     "execution_count": 16,
     "metadata": {},
     "output_type": "execute_result"
    }
   ],
   "source": [
    "forest.predict(x_test)"
   ]
  },
  {
   "cell_type": "code",
   "execution_count": 17,
   "id": "ae44bde2",
   "metadata": {},
   "outputs": [
    {
     "data": {
      "text/plain": [
       "0.6214953271028038"
      ]
     },
     "execution_count": 17,
     "metadata": {},
     "output_type": "execute_result"
    }
   ],
   "source": [
    "forest.score(x_train, y_train)"
   ]
  },
  {
   "cell_type": "code",
   "execution_count": 18,
   "id": "4b95fadb",
   "metadata": {},
   "outputs": [
    {
     "data": {
      "text/plain": [
       "0.36645962732919257"
      ]
     },
     "execution_count": 18,
     "metadata": {},
     "output_type": "execute_result"
    }
   ],
   "source": [
    "forest.score(x_test, y_test)"
   ]
  },
  {
   "cell_type": "markdown",
   "id": "b3c9321c",
   "metadata": {},
   "source": [
    "## Testing Data"
   ]
  },
  {
   "cell_type": "code",
   "execution_count": 19,
   "id": "cefa58a1",
   "metadata": {},
   "outputs": [],
   "source": [
    "test_data.drop(\"Unnamed: 0\", axis=1, inplace=True)"
   ]
  },
  {
   "cell_type": "code",
   "execution_count": 20,
   "id": "f0256b64",
   "metadata": {},
   "outputs": [
    {
     "data": {
      "text/html": [
       "<div>\n",
       "<style scoped>\n",
       "    .dataframe tbody tr th:only-of-type {\n",
       "        vertical-align: middle;\n",
       "    }\n",
       "\n",
       "    .dataframe tbody tr th {\n",
       "        vertical-align: top;\n",
       "    }\n",
       "\n",
       "    .dataframe thead th {\n",
       "        text-align: right;\n",
       "    }\n",
       "</style>\n",
       "<table border=\"1\" class=\"dataframe\">\n",
       "  <thead>\n",
       "    <tr style=\"text-align: right;\">\n",
       "      <th></th>\n",
       "      <th>HHI</th>\n",
       "      <th>HHDL</th>\n",
       "      <th>Married</th>\n",
       "      <th>CollegGrads</th>\n",
       "      <th>AHHAge</th>\n",
       "      <th>Cars</th>\n",
       "      <th>Filed in 2017</th>\n",
       "      <th>Filed in 2016</th>\n",
       "      <th>Filed in 2015</th>\n",
       "    </tr>\n",
       "  </thead>\n",
       "  <tbody>\n",
       "    <tr>\n",
       "      <th>0</th>\n",
       "      <td>253274</td>\n",
       "      <td>-633752</td>\n",
       "      <td>2</td>\n",
       "      <td>1</td>\n",
       "      <td>94</td>\n",
       "      <td>3</td>\n",
       "      <td>0</td>\n",
       "      <td>1</td>\n",
       "      <td>1</td>\n",
       "    </tr>\n",
       "    <tr>\n",
       "      <th>1</th>\n",
       "      <td>47107</td>\n",
       "      <td>322850</td>\n",
       "      <td>0</td>\n",
       "      <td>1</td>\n",
       "      <td>30</td>\n",
       "      <td>2</td>\n",
       "      <td>1</td>\n",
       "      <td>1</td>\n",
       "      <td>0</td>\n",
       "    </tr>\n",
       "    <tr>\n",
       "      <th>2</th>\n",
       "      <td>111874</td>\n",
       "      <td>300583</td>\n",
       "      <td>0</td>\n",
       "      <td>2</td>\n",
       "      <td>46</td>\n",
       "      <td>3</td>\n",
       "      <td>0</td>\n",
       "      <td>1</td>\n",
       "      <td>1</td>\n",
       "    </tr>\n",
       "    <tr>\n",
       "      <th>3</th>\n",
       "      <td>96670</td>\n",
       "      <td>107419</td>\n",
       "      <td>0</td>\n",
       "      <td>3</td>\n",
       "      <td>77</td>\n",
       "      <td>5</td>\n",
       "      <td>0</td>\n",
       "      <td>0</td>\n",
       "      <td>0</td>\n",
       "    </tr>\n",
       "    <tr>\n",
       "      <th>4</th>\n",
       "      <td>128669</td>\n",
       "      <td>341273</td>\n",
       "      <td>0</td>\n",
       "      <td>0</td>\n",
       "      <td>92</td>\n",
       "      <td>4</td>\n",
       "      <td>1</td>\n",
       "      <td>1</td>\n",
       "      <td>1</td>\n",
       "    </tr>\n",
       "  </tbody>\n",
       "</table>\n",
       "</div>"
      ],
      "text/plain": [
       "      HHI    HHDL  Married  CollegGrads  AHHAge  Cars  Filed in 2017  \\\n",
       "0  253274 -633752        2            1      94     3              0   \n",
       "1   47107  322850        0            1      30     2              1   \n",
       "2  111874  300583        0            2      46     3              0   \n",
       "3   96670  107419        0            3      77     5              0   \n",
       "4  128669  341273        0            0      92     4              1   \n",
       "\n",
       "   Filed in 2016  Filed in 2015  \n",
       "0              1              1  \n",
       "1              1              0  \n",
       "2              1              1  \n",
       "3              0              0  \n",
       "4              1              1  "
      ]
     },
     "execution_count": 20,
     "metadata": {},
     "output_type": "execute_result"
    }
   ],
   "source": [
    "test_data.head()"
   ]
  },
  {
   "cell_type": "code",
   "execution_count": 21,
   "id": "b4b5ec65",
   "metadata": {},
   "outputs": [],
   "source": [
    "target = forest.predict(test_data)\n",
    "res = pd.DataFrame(target)\n",
    "res.index = test_data.index\n",
    "res.columns = [\"prediction\"]\n",
    "res.to_csv(\"prediction_results.csv\", index=False)"
   ]
  },
  {
   "cell_type": "code",
   "execution_count": null,
   "id": "93ac168f",
   "metadata": {},
   "outputs": [],
   "source": []
  }
 ],
 "metadata": {
  "kernelspec": {
   "display_name": "Python 3 (ipykernel)",
   "language": "python",
   "name": "python3"
  },
  "language_info": {
   "codemirror_mode": {
    "name": "ipython",
    "version": 3
   },
   "file_extension": ".py",
   "mimetype": "text/x-python",
   "name": "python",
   "nbconvert_exporter": "python",
   "pygments_lexer": "ipython3",
   "version": "3.9.12"
  }
 },
 "nbformat": 4,
 "nbformat_minor": 5
}
